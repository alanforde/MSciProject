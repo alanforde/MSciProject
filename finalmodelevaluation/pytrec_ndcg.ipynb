{
 "cells": [
  {
   "cell_type": "code",
   "execution_count": 1,
   "metadata": {
    "collapsed": true
   },
   "outputs": [],
   "source": [
    "import pickle\n",
    "import pytrec_eval\n",
    "import json"
   ]
  },
  {
   "cell_type": "code",
   "execution_count": 2,
   "metadata": {
    "collapsed": true
   },
   "outputs": [],
   "source": [
    "def get_qrels(modelName):\n",
    "    with open('%s_qrel.pickle' %modelName, 'rb') as handle:\n",
    "        qrel = pickle.load(handle, encoding='latin1')\n",
    "    return qrel"
   ]
  },
  {
   "cell_type": "code",
   "execution_count": 3,
   "metadata": {
    "collapsed": true
   },
   "outputs": [],
   "source": [
    "def get_run(modelName):\n",
    "    with open('%s_run.pickle' %modelName, 'rb') as handle:\n",
    "        run = pickle.load(handle, encoding='latin1')\n",
    "    return run"
   ]
  },
  {
   "cell_type": "code",
   "execution_count": 24,
   "metadata": {
    "collapsed": true
   },
   "outputs": [],
   "source": [
    "implicit_qrel = get_qrels('implicit')\n",
    "implicit_run = get_run('implicit')\n",
    "scipy_qrel = get_qrels('scipy_recs')\n",
    "scipy_run = get_run('scipy_recs')\n",
    "spotseq_qrel = get_qrels('scipy')\n",
    "spotseq_run = get_run('scipy')\n",
    "support_qrel = get_qrels('support')\n",
    "support_run = get_run('support')\n",
    "listwise_map_qrel = get_qrels('listwise_map')\n",
    "listwise_map_run = get_run('listwise_map')\n",
    "listwise_ndcg_qrel = get_qrels('listwise_ndcg')\n",
    "listwise_ndcg_run = get_run('listwise_ndcg')\n",
    "pairwise_qrel = get_qrels('pairwise')\n",
    "pairwise_run = get_run('pairwise')"
   ]
  },
  {
   "cell_type": "code",
   "execution_count": 47,
   "metadata": {
    "collapsed": true
   },
   "outputs": [],
   "source": [
    "implicit_evaluator = pytrec_eval.RelevanceEvaluator(implicit_qrel,{'map', 'ndcg'})\n",
    "implicit_results = implicit_evaluator.evaluate(implicit_run)"
   ]
  },
  {
   "cell_type": "code",
   "execution_count": 28,
   "metadata": {
    "collapsed": true
   },
   "outputs": [],
   "source": [
    "scipy_evaluator = pytrec_eval.RelevanceEvaluator(scipy_qrel,{'map', 'ndcg'})\n",
    "scipy_results = scipy_evaluator.evaluate(scipy_run)"
   ]
  },
  {
   "cell_type": "code",
   "execution_count": 73,
   "metadata": {
    "collapsed": true
   },
   "outputs": [],
   "source": [
    "spotseq_evaluator = pytrec_eval.RelevanceEvaluator(spotseq_qrel,{'map', 'ndcg'})\n",
    "spotseq_results = spotseq_evaluator.evaluate(spotseq_run)"
   ]
  },
  {
   "cell_type": "code",
   "execution_count": 77,
   "metadata": {
    "collapsed": true
   },
   "outputs": [],
   "source": [
    "support_evaluator = pytrec_eval.RelevanceEvaluator(support_qrel,{'map', 'ndcg'})\n",
    "support_results = support_evaluator.evaluate(support_run)"
   ]
  },
  {
   "cell_type": "code",
   "execution_count": 10,
   "metadata": {
    "collapsed": true
   },
   "outputs": [],
   "source": [
    "listwise_map_evaluator = pytrec_eval.RelevanceEvaluator(listwise_map_qrel,{'map', 'ndcg'})\n",
    "listwise_map_results = listwise_map_evaluator.evaluate(listwise_map_run)"
   ]
  },
  {
   "cell_type": "code",
   "execution_count": null,
   "metadata": {
    "collapsed": true
   },
   "outputs": [],
   "source": [
    "listwise_ndcg_evaluator = pytrec_eval.RelevanceEvaluator(listwise_ndcg_qrel,{'map', 'ndcg'})\n",
    "listwise_ndcg_results = listwise_map_evaluator.evaluate(listwise_ndcg_run)"
   ]
  },
  {
   "cell_type": "code",
   "execution_count": null,
   "metadata": {
    "collapsed": true
   },
   "outputs": [],
   "source": [
    "pairwise_evaluator = pytrec_eval.RelevanceEvaluator(pairwise_qrel,{'map', 'ndcg'})\n",
    "pairwise_results = pairwise_evaluator.evaluate(pairwise_run)"
   ]
  },
  {
   "cell_type": "code",
   "execution_count": 6,
   "metadata": {
    "collapsed": true
   },
   "outputs": [],
   "source": [
    "def Average(lst): \n",
    "    return sum(lst) / len(lst)"
   ]
  },
  {
   "cell_type": "code",
   "execution_count": 7,
   "metadata": {
    "collapsed": true
   },
   "outputs": [],
   "source": [
    "def print_scores(results, modelName):\n",
    "    NDCGlist = []\n",
    "    MAPlist = []\n",
    "    for key in results:\n",
    "        result = results[key]\n",
    "        NDCGlist += [result['ndcg']]\n",
    "        MAPlist += [result['map']]\n",
    "    print (\"==========================\" + modelName + \" Results=============================\")\n",
    "    print (\"Average NDCG: \" + str(Average(NDCGlist)))\n",
    "    print (\"MAP: \" + str(Average(MAPlist)))\n",
    "    print (\"==============================================================\")"
   ]
  },
  {
   "cell_type": "code",
   "execution_count": 48,
   "metadata": {},
   "outputs": [
    {
     "name": "stdout",
     "output_type": "stream",
     "text": [
      "==========================Implicit Results=============================\n",
      "Average NDCG: 0.008444870965642046\n",
      "MAP: 0.006683333333333334\n",
      "==============================================================\n"
     ]
    }
   ],
   "source": [
    "print_scores(implicit_results, \"Implicit\")"
   ]
  }
 ],
 "metadata": {
  "kernelspec": {
   "display_name": "Python 3",
   "language": "python",
   "name": "python3"
  },
  "language_info": {
   "codemirror_mode": {
    "name": "ipython",
    "version": 3
   },
   "file_extension": ".py",
   "mimetype": "text/x-python",
   "name": "python",
   "nbconvert_exporter": "python",
   "pygments_lexer": "ipython3",
   "version": "3.6.1"
  }
 },
 "nbformat": 4,
 "nbformat_minor": 2
}
